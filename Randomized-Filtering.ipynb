{
 "cells": [
  {
   "cell_type": "code",
   "execution_count": 1,
   "id": "0c67da95",
   "metadata": {},
   "outputs": [],
   "source": [
    "import numpy as np\n",
    "import matplotlib.pyplot as plt\n",
    "from numpy.linalg import eig\n",
    "import math\n",
    "from scipy.linalg import eigh\n",
    "import matplotlib.pyplot as plt\n",
    "import random"
   ]
  },
  {
   "cell_type": "code",
   "execution_count": 2,
   "id": "108da8e6",
   "metadata": {},
   "outputs": [],
   "source": [
    "number = 990\n",
    "episl = 0.1"
   ]
  },
  {
   "cell_type": "code",
   "execution_count": 3,
   "id": "81b785b5",
   "metadata": {},
   "outputs": [],
   "source": [
    "outliers = int(number*episl)\n",
    "clean_data = number - outliers\n",
    "delta = episl*np.sqrt(math.log(1/episl))\n",
    "lamda = delta**2/episl"
   ]
  },
  {
   "cell_type": "code",
   "execution_count": 4,
   "id": "a549f3b9",
   "metadata": {},
   "outputs": [],
   "source": [
    "#projection of the data onto the two largest eigenvector of the clean data\n",
    "def pic(clean_data, data):\n",
    "    num = len(data[0])\n",
    "    cov = np.cov(clean_data.transpose())\n",
    "    eigenvalue,eigenvector = eigh(cov,subset_by_index=[num - 2, num - 1])\n",
    "    e1 = eigenvector[:,0]\n",
    "    e2 = eigenvector[:,1]\n",
    "    x = []#how many onto the first eigenvector\n",
    "    y = []#how many onto the second eigenvector\n",
    "    for i in range(len(data[:,0])):\n",
    "        xi = (np.dot(data[i], e1) / np.dot(e1, e1))\n",
    "        yi = (np.dot(data[i], e2) / np.dot(e2, e2))\n",
    "        x.append(xi)\n",
    "        y.append(yi)\n",
    "    plt.scatter(x, y)\n",
    "    plt.show()\n"
   ]
  },
  {
   "cell_type": "code",
   "execution_count": 5,
   "id": "196327a6",
   "metadata": {},
   "outputs": [],
   "source": [
    "# create a n clean points, and epsil*n outliers, delta = ep*sq(log(1/ep)), lamda = delta^2/ep\n",
    "mu_c, sigma_c = 0, 1 # mean and standard deviation\n",
    "s = np.random.normal(mu_c, sigma_c, size = (clean_data,170))\n",
    "mu_o, sigma_o = 100, 10\n",
    "u = np.random.normal(mu_o, sigma_o, size = (outliers,170))\n",
    "data = np.append(u, s, axis=0)\n",
    "np.random.shuffle(data)\n",
    "#Try dimension of more than 100\n",
    "#Seperate the outliers all around the dataset, not just the back of it"
   ]
  },
  {
   "cell_type": "code",
   "execution_count": 6,
   "id": "9a26e21f",
   "metadata": {},
   "outputs": [
    {
     "data": {
      "image/png": "[encoded data removed]",
      "text/plain": [
       "<Figure size 640x480 with 1 Axes>"
      ]
     },
     "metadata": {},
     "output_type": "display_data"
    },
    {
     "name": "stdout",
     "output_type": "stream",
     "text": [
      "None\n"
     ]
    }
   ],
   "source": [
    "print(pic(s, data))"
   ]
  },
  {
   "cell_type": "code",
   "execution_count": 7,
   "id": "526f0ea5",
   "metadata": {},
   "outputs": [],
   "source": [
    "def f(data,v,uT):\n",
    "    g = np.dot((data-uT),v)**2\n",
    "    corr = int(episl*len(data[:,0]))   \n",
    "    ind = np.argpartition(g, -corr)[-corr:]\n",
    "    top = g[ind]\n",
    "    f = np.zeros(len(data[:,0]))\n",
    "    for i in range(corr):\n",
    "        f[ind[i]] = top[i]\n",
    "    return f"
   ]
  },
  {
   "cell_type": "code",
   "execution_count": 8,
   "id": "6a3c093a",
   "metadata": {},
   "outputs": [],
   "source": [
    "def delete(data):\n",
    "    number = len(data[:,0])\n",
    "    cov = np.cov(data.transpose())\n",
    "    uT = np.mean(data, axis = 0)\n",
    "    eigenvalue,eigenvector = eig(cov)\n",
    "    n = np.linalg.norm(eigenvector, axis = 1)\n",
    "    index = np.argmax(n)\n",
    "    v = eigenvector[index, :]\n",
    "    n = np.linalg.norm(eigenvalue)\n",
    "    index = np.argmax(n)\n",
    "    largest_eigenvalue = eigenvalue[index]\n",
    "    #print(largest_eigenvalue)\n",
    "    while largest_eigenvalue >=(1+ 200*lamda):\n",
    "        a = f(data,v,uT)\n",
    "        maximum = a.max()\n",
    "        prob = a/maximum\n",
    "        index = 0\n",
    "        for i in range(number):\n",
    "            if(prob[i] == 0):\n",
    "                index+=1\n",
    "                continue\n",
    "            else:\n",
    "                randprob = random.random()\n",
    "                if(randprob <= prob[index]):\n",
    "                    data = np.delete(data, index, 0)\n",
    "                    number -=1\n",
    "        cov = np.cov(data.transpose())\n",
    "        uT = np.mean(data, axis = 0)\n",
    "        eigenvalue,eigenvector = eig(cov)\n",
    "        n = np.linalg.norm(eigenvector, axis = 1)\n",
    "        index = np.argmax(n)\n",
    "        v = eigenvector[index, :]\n",
    "        n = np.linalg.norm(eigenvalue)\n",
    "        index = np.argmax(n)\n",
    "        largest_eigenvalue = eigenvalue[index]\n",
    "    mu = np.mean(data, axis = 0)\n",
    "    return mu,data"
   ]
  },
  {
   "cell_type": "code",
   "execution_count": null,
   "id": "dadc10fa",
   "metadata": {},
   "outputs": [],
   "source": [
    "mu, data = delete(data)\n",
    "print(len(data[:,0]))\n",
    "print(pic(s, data))"
   ]
  },
  {
   "cell_type": "code",
   "execution_count": null,
   "id": "329f83cc",
   "metadata": {},
   "outputs": [],
   "source": [
    "# plot the error between the clean data and the estimated one, one is the error and the other is the dimension\n",
    "clean_mean = np.mean(s, axis = 0)\n",
    "estimated_mean = mu\n",
    "error = np.sqrt(np.sum((clean_mean - estimated_mean)**2))\n",
    "print(error)"
   ]
  },
  {
   "cell_type": "code",
   "execution_count": null,
   "id": "8c561c10",
   "metadata": {},
   "outputs": [],
   "source": [
    "dimension = 2\n",
    "error = []\n",
    "for i in range(100):\n",
    "    s = np.random.normal(mu_c, sigma_c, size = (clean_data,dimension))\n",
    "    u = np.random.normal(mu_o, sigma_o, size = (outliers,dimension))\n",
    "    data = np.append(u, s, axis=0)\n",
    "    np.random.shuffle(data)\n",
    "    mu, data = delete(data)\n",
    "    clean_mean = np.mean(s, axis = 0)\n",
    "    estimated_mean = mu\n",
    "    e = np.sqrt(np.sum((clean_mean - estimated_mean)**2))\n",
    "    error.append(e)\n",
    "    dimension+=1"
   ]
  },
  {
   "cell_type": "code",
   "execution_count": null,
   "id": "a39e7fde",
   "metadata": {},
   "outputs": [],
   "source": [
    "plt.plot(error)\n",
    "plt.show()"
   ]
  },
  {
   "cell_type": "code",
   "execution_count": null,
   "id": "c15b7480",
   "metadata": {},
   "outputs": [],
   "source": []
  }
 ],
 "metadata": {
  "kernelspec": {
   "display_name": "Python 3 (ipykernel)",
   "language": "python",
   "name": "python3"
  },
  "language_info": {
   "codemirror_mode": {
    "name": "ipython",
    "version": 3
   },
   "file_extension": ".py",
   "mimetype": "text/x-python",
   "name": "python",
   "nbconvert_exporter": "python",
   "pygments_lexer": "ipython3",
   "version": "3.9.13"
  }
 },
 "nbformat": 4,
 "nbformat_minor": 5
}
