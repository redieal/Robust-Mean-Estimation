{
 "cells": [
  {
   "cell_type": "code",
   "execution_count": 1,
   "id": "cf9e26ff",
   "metadata": {},
   "outputs": [],
   "source": [
    "import numpy as np\n",
    "import matplotlib.pyplot as plt\n",
    "from numpy.linalg import eig\n",
    "import math\n",
    "from scipy.linalg import eigh\n",
    "import matplotlib.pyplot as plt\n",
    "import random\n",
    "from scipy import stats"
   ]
  },
  {
   "cell_type": "code",
   "execution_count": 2,
   "id": "bd6ebee7",
   "metadata": {},
   "outputs": [],
   "source": [
    "C = 10 # C be a sufficiently large constant\n",
    "number = 990\n",
    "episl = 0.1\n",
    "outliers = int(number*episl)\n",
    "clean_data = number - outliers\n",
    "delta = episl*np.sqrt(math.log(1/episl))\n",
    "lamda = delta**2/episl\n",
    "dimension = 4"
   ]
  },
  {
   "cell_type": "code",
   "execution_count": 3,
   "id": "ffbbed8c",
   "metadata": {},
   "outputs": [],
   "source": [
    "mu_c, sigma_c = 0, 1 # mean and standard deviation\n",
    "s = np.random.normal(mu_c, sigma_c, size = (clean_data,dimension))\n",
    "mu_o, sigma_o = 6, 2\n",
    "u = np.random.normal(mu_o, sigma_o, size = (outliers,dimension))\n",
    "data = np.append(u, s, axis=0)\n",
    "np.random.shuffle(data)"
   ]
  },
  {
   "cell_type": "code",
   "execution_count": 4,
   "id": "4e4d58a9",
   "metadata": {},
   "outputs": [],
   "source": [
    "x = data[0]\n",
    "R = 4*number\n",
    "index = 0\n",
    "n = number\n",
    "# remove from T all points at distance more than R/2 from x\n",
    "for i in range(number):\n",
    "    dist = np.sqrt(np.sum((data[i] - x)**2))\n",
    "    if(dist <= R/2):\n",
    "        index+=1\n",
    "        continue\n",
    "    else:\n",
    "        data = np.delete(data, index, 0)\n",
    "        n -=1"
   ]
  },
  {
   "cell_type": "code",
   "execution_count": 5,
   "id": "2e44c79f",
   "metadata": {},
   "outputs": [
    {
     "name": "stderr",
     "output_type": "stream",
     "text": [
      "C:\\Users\\asus\\AppData\\Local\\Temp\\ipykernel_26896\\954563865.py:6: RuntimeWarning: invalid value encountered in power\n",
      "  M = B**(math.log(dimension))\n"
     ]
    }
   ],
   "source": [
    "r = int(C * math.log(R/episl)*math.log(dimension))\n",
    "print\n",
    "for i in range(r):\n",
    "    cov = np.cov(data.transpose())\n",
    "    I = np.identity(dimension)\n",
    "    B = n/number*cov - (1 - C*(delta**2)/episl)*I\n",
    "    M = B**(math.log(dimension))\n",
    "    w = np.random.normal(0,1,dimension)\n",
    "    v = M @ (w.reshape(dimension,1))\n",
    "    m = stats.trim_mean(data, episl)@ v\n",
    "    index = 0\n",
    "    # e\n",
    "    tau = np.zeros(n)\n",
    "    for i in range(n):\n",
    "        f = abs(data[i]@v - m)**2\n",
    "        var = 10*(delta/episl**2)* np.linalg.norm(v)\n",
    "        if(f>var):\n",
    "            tau[i] = f\n",
    "        else:\n",
    "            tau[i] = 0\n",
    "    sum = np.sum(tau)\n",
    "    constraint = C*(delta**2 * n /episl)* (np.linalg.norm(v))**2\n",
    "    t = np.random.uniform(0,np.max(tau))\n",
    "    index = 0\n",
    "    for i in range(n):\n",
    "        if(tau[i] <= t):\n",
    "            index+=1\n",
    "            continue\n",
    "        else:\n",
    "            data = np.delete(data, index, 0)\n",
    "            n -=1"
   ]
  },
  {
   "cell_type": "code",
   "execution_count": null,
   "id": "3af45750",
   "metadata": {},
   "outputs": [],
   "source": []
  },
  {
   "cell_type": "code",
   "execution_count": null,
   "id": "c4f7f82d",
   "metadata": {},
   "outputs": [],
   "source": []
  },
  {
   "cell_type": "code",
   "execution_count": null,
   "id": "72e826a3",
   "metadata": {},
   "outputs": [],
   "source": []
  }
 ],
 "metadata": {
  "kernelspec": {
   "display_name": "Python 3 (ipykernel)",
   "language": "python",
   "name": "python3"
  },
  "language_info": {
   "codemirror_mode": {
    "name": "ipython",
    "version": 3
   },
   "file_extension": ".py",
   "mimetype": "text/x-python",
   "name": "python",
   "nbconvert_exporter": "python",
   "pygments_lexer": "ipython3",
   "version": "3.9.13"
  }
 },
 "nbformat": 4,
 "nbformat_minor": 5
}
